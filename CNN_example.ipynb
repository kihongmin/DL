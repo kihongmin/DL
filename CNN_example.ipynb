{
 "cells": [
  {
   "cell_type": "code",
   "execution_count": 0,
   "metadata": {
    "colab": {},
    "colab_type": "code",
    "id": "k9_L6KwlJ17E"
   },
   "outputs": [],
   "source": [
    "import pandas as pd\n",
    "import numpy as np\n",
    "import matplotlib.pyplot as plt\n",
    "%matplotlib inline\n",
    "\n",
    "np.random.seed(2)\n",
    "\n",
    "from sklearn.model_selection import train_test_split\n",
    "\n",
    "import keras\n",
    "from keras.utils.np_utils import to_categorical\n",
    "from keras.models import Sequential\n",
    "from keras.layers import Dense, Dropout, Flatten, Conv2D, MaxPool2D, Activation\n",
    "from keras.preprocessing.image import ImageDataGenerator"
   ]
  },
  {
   "cell_type": "code",
   "execution_count": 0,
   "metadata": {
    "colab": {},
    "colab_type": "code",
    "id": "bfLaJ196AqdH"
   },
   "outputs": [],
   "source": [
    "#데이터를 불러옵니다.\n",
    "(X_train, Y_train), (X_test, Y_test) = keras.datasets.mnist.load_data()"
   ]
  },
  {
   "cell_type": "code",
   "execution_count": 0,
   "metadata": {
    "colab": {},
    "colab_type": "code",
    "id": "VxzRenhuSmJx"
   },
   "outputs": [],
   "source": [
    "import cv2"
   ]
  },
  {
   "cell_type": "code",
   "execution_count": 11,
   "metadata": {
    "colab": {
     "base_uri": "https://localhost:8080/",
     "height": 34
    },
    "colab_type": "code",
    "id": "rw1MyAzgSxF4",
    "outputId": "21126036-43b8-4399-db30-68ec15ec0e4b"
   },
   "outputs": [
    {
     "data": {
      "text/plain": [
       "(60000, 28, 28)"
      ]
     },
     "execution_count": 11,
     "metadata": {
      "tags": []
     },
     "output_type": "execute_result"
    }
   ],
   "source": [
    "X_train.shape"
   ]
  },
  {
   "cell_type": "code",
   "execution_count": 12,
   "metadata": {
    "colab": {
     "base_uri": "https://localhost:8080/",
     "height": 334
    },
    "colab_type": "code",
    "id": "Bv7wDfYCSoNQ",
    "outputId": "0e604f9a-c3c0-4e0a-91bb-0caa8ee9cf6a",
    "scrolled": true
   },
   "outputs": [
    {
     "ename": "DisabledFunctionError",
     "evalue": "ignored",
     "output_type": "error",
     "traceback": [
      "\u001b[0;31m---------------------------------------------------------------------------\u001b[0m",
      "\u001b[0;31mDisabledFunctionError\u001b[0m                     Traceback (most recent call last)",
      "\u001b[0;32m<ipython-input-12-f4cdcfc1e8f8>\u001b[0m in \u001b[0;36m<module>\u001b[0;34m()\u001b[0m\n\u001b[0;32m----> 1\u001b[0;31m \u001b[0mcv2\u001b[0m\u001b[0;34m.\u001b[0m\u001b[0mimshow\u001b[0m\u001b[0;34m(\u001b[0m\u001b[0mX_train\u001b[0m\u001b[0;34m[\u001b[0m\u001b[0;36m0\u001b[0m\u001b[0;34m]\u001b[0m\u001b[0;34m,\u001b[0m\u001b[0mcv2\u001b[0m\u001b[0;34m.\u001b[0m\u001b[0mIMREAD_COLOR\u001b[0m\u001b[0;34m)\u001b[0m\u001b[0;34m\u001b[0m\u001b[0;34m\u001b[0m\u001b[0m\n\u001b[0m",
      "\u001b[0;32m/usr/local/lib/python3.6/dist-packages/google/colab/_import_hooks/_cv2.py\u001b[0m in \u001b[0;36mwrapped\u001b[0;34m(*args, **kwargs)\u001b[0m\n\u001b[1;32m     50\u001b[0m   \u001b[0;32mdef\u001b[0m \u001b[0mwrapped\u001b[0m\u001b[0;34m(\u001b[0m\u001b[0;34m*\u001b[0m\u001b[0margs\u001b[0m\u001b[0;34m,\u001b[0m \u001b[0;34m**\u001b[0m\u001b[0mkwargs\u001b[0m\u001b[0;34m)\u001b[0m\u001b[0;34m:\u001b[0m\u001b[0;34m\u001b[0m\u001b[0;34m\u001b[0m\u001b[0m\n\u001b[1;32m     51\u001b[0m     \u001b[0;32mif\u001b[0m \u001b[0;32mnot\u001b[0m \u001b[0mos\u001b[0m\u001b[0;34m.\u001b[0m\u001b[0menviron\u001b[0m\u001b[0;34m.\u001b[0m\u001b[0mget\u001b[0m\u001b[0;34m(\u001b[0m\u001b[0menv_var\u001b[0m\u001b[0;34m,\u001b[0m \u001b[0;32mFalse\u001b[0m\u001b[0;34m)\u001b[0m\u001b[0;34m:\u001b[0m\u001b[0;34m\u001b[0m\u001b[0;34m\u001b[0m\u001b[0m\n\u001b[0;32m---> 52\u001b[0;31m       \u001b[0;32mraise\u001b[0m \u001b[0mDisabledFunctionError\u001b[0m\u001b[0;34m(\u001b[0m\u001b[0mmessage\u001b[0m\u001b[0;34m,\u001b[0m \u001b[0mname\u001b[0m \u001b[0;32mor\u001b[0m \u001b[0mfunc\u001b[0m\u001b[0;34m.\u001b[0m\u001b[0m__name__\u001b[0m\u001b[0;34m)\u001b[0m\u001b[0;34m\u001b[0m\u001b[0;34m\u001b[0m\u001b[0m\n\u001b[0m\u001b[1;32m     53\u001b[0m     \u001b[0;32mreturn\u001b[0m \u001b[0mfunc\u001b[0m\u001b[0;34m(\u001b[0m\u001b[0;34m*\u001b[0m\u001b[0margs\u001b[0m\u001b[0;34m,\u001b[0m \u001b[0;34m**\u001b[0m\u001b[0mkwargs\u001b[0m\u001b[0;34m)\u001b[0m\u001b[0;34m\u001b[0m\u001b[0;34m\u001b[0m\u001b[0m\n\u001b[1;32m     54\u001b[0m \u001b[0;34m\u001b[0m\u001b[0m\n",
      "\u001b[0;31mDisabledFunctionError\u001b[0m: cv2.imshow() is disabled in Colab, because it causes Jupyter sessions\nto crash; see https://github.com/jupyter/notebook/issues/3935.\nAs a substitution, consider using\n  from google.colab.patches import cv2_imshow\n"
     ]
    }
   ],
   "source": [
    "#데이터를 확인합니다(colab의 경우 cv2.imshow가 실행이 안되어 plt.imshow를 사용하시면 됩니다.)\n",
    "cv2.imshow(X_train[0],cv2.IMREAD_COLOR)"
   ]
  },
  {
   "cell_type": "code",
   "execution_count": 0,
   "metadata": {
    "colab": {},
    "colab_type": "code",
    "id": "-GCFEGg0gt2A"
   },
   "outputs": [],
   "source": [
    "#위에서 shape을 확인한 결과 (60000,28,28)로 각 이미지는 2차원 데이터입니다.\n",
    "#CNN은 가로x세로x채널의 3차원의 이미지를 사용하므로 input이미지를 4차원 데이터로 바꾸어줍니다(이미지=3차원, 그 이미지들 묶으니까 차원 하나 더 추가)\n",
    "X_train = X_train.reshape(X_train.shape[0],28,28,1)\n",
    "X_test = X_test.reshape(X_test.shape[0],28,28,1)\n",
    "\n",
    "#정답의 경우 categorical이기에 해당 변수로 변환합니다.\n",
    "Y_train = keras.utils.to_categorical(Y_train, 10)\n",
    "Y_test = keras.utils.to_categorical(Y_test, 10)\n",
    "\n",
    "#0~255사이의 값을 갖는 픽셀들을 0~1의 값을 가지도록 변환시킵니다.\n",
    "X_train = X_train.astype('float32') / 255.\n",
    "X_test = X_test.astype('float32') / 255.\n",
    "\n",
    "random_seed = 2\n",
    "#train set을 다시 train과 validation으로 나누어 줍니다.\n",
    "X_train, X_val, Y_train, Y_val = train_test_split(X_train, Y_train, test_size=0.1, random_state = random_seed)"
   ]
  },
  {
   "cell_type": "code",
   "execution_count": 15,
   "metadata": {
    "colab": {
     "base_uri": "https://localhost:8080/",
     "height": 285
    },
    "colab_type": "code",
    "id": "brto4XbdHgey",
    "outputId": "3209a61a-495f-4a71-e439-340e87488754"
   },
   "outputs": [
    {
     "data": {
      "text/plain": [
       "<matplotlib.image.AxesImage at 0x7f68bd84f828>"
      ]
     },
     "execution_count": 15,
     "metadata": {
      "tags": []
     },
     "output_type": "execute_result"
    },
    {
     "data": {
      "image/png": "[encoded data removed]",
      "text/plain": [
       "<Figure size 432x288 with 1 Axes>"
      ]
     },
     "metadata": {
      "tags": []
     },
     "output_type": "display_data"
    }
   ],
   "source": [
    "plt.imshow(X_train[1][:,:,0])"
   ]
  },
  {
   "cell_type": "code",
   "execution_count": 18,
   "metadata": {
    "colab": {
     "base_uri": "https://localhost:8080/",
     "height": 71
    },
    "colab_type": "code",
    "id": "YzOc8_RZPDho",
    "outputId": "9d249e06-b11f-41ca-fbfd-25993f7b9e48"
   },
   "outputs": [
    {
     "name": "stdout",
     "output_type": "stream",
     "text": [
      "WARNING:tensorflow:From /usr/local/lib/python3.6/dist-packages/keras/optimizers.py:793: The name tf.train.Optimizer is deprecated. Please use tf.compat.v1.train.Optimizer instead.\n",
      "\n"
     ]
    }
   ],
   "source": [
    "from keras.models import Sequential\n",
    "from keras.layers import Conv2D, MaxPooling2D, Flatten, Dense, Dropout, BatchNormalization\n",
    "#저는 keras로 진행합니다.\n",
    "def build_model():\n",
    "    #이 모델이 sequential한 모델임을 선언합니다(그냥 쭉 직선, 발표 ppt에 googleNet의 경우가 예외)\n",
    "    model = Sequential()\n",
    "    #Convolution Layer를 추가합니다. 이 Layer에는 산출하는 Activation map의 갯수, 사용하는 filter의 크기, padding, stride를 설정하며\n",
    "    #추가적으로 Activation function, weight initializer를 추가할 수 있습니다.\n",
    "    model.add(Conv2D(filters=16, kernel_size=(1,1),input_shape=(28, 28, 1)))\n",
    "    model.add(Conv2D(filters=16, kernel_size=(1,1)))\n",
    "    model.add(Conv2D(filters=16, kernel_size=(1,1)))\n",
    "    #pooling layer를 추가합니다.\n",
    "    model.add(MaxPooling2D(pool_size=(2,2)))\n",
    "    #feature extraction을 마쳤으므로 이를 MLP에 넣기위해 데이터를 flatten시킵니다. 즉 image의 shape를 3차원 -> 1차원으로 변경합니다.\n",
    "    model.add(Flatten())\n",
    "    #이후는 기존에 진행했던 MLP구조와 같습니다.\n",
    "    model.add(Dense(128, activation='relu',kernel_initializer='he_normal'))\n",
    "    #예측값이 1~10의 10개이므로 output을 10개로 설정합니다. 이를 softmax를 거치게합니다.\n",
    "    model.add(Dense(10, activation='softmax'))\n",
    "    #optimizer로 adam을 사용하고 사용하는 loss값은 cross entropy입니다. 학습하며 accuracy도 같이 봅니다만 이는 학습에 영향을 미치지 않습니다.\n",
    "    model.compile(optimizer='adam', loss='categorical_crossentropy', metrics=['accuracy'])\n",
    "    return model\n",
    "\n",
    "model = build_model()"
   ]
  },
  {
   "cell_type": "code",
   "execution_count": 0,
   "metadata": {
    "colab": {},
    "colab_type": "code",
    "id": "r-l49F3qcSYD"
   },
   "outputs": [],
   "source": [
    "#이미지 학습에서 중요한 요소 중 하나는 augumentation입니다. 이미지를 좌,우로 반전시키거나, 회전하거나, 확대시킵니다.\n",
    "#즉 배치마다 데이터의 모양이 달라집니다. 그리고 데이터를 더 많이 넣을 수도 있습니다.\n",
    "#이 내용은 세션 내용에는 없지만 너무 중요한 부분이라 넣었습니다.\n",
    "datagen = ImageDataGenerator(\n",
    "        featurewise_center=False,  # set input mean to 0 over the dataset\n",
    "        samplewise_center=False,  # set each sample mean to 0\n",
    "        featurewise_std_normalization=False,  # divide inputs by std of the dataset\n",
    "        samplewise_std_normalization=False,  # divide each input by its std\n",
    "        zca_whitening=False,  # apply ZCA whitening\n",
    "        rotation_range=10,  # randomly rotate images in the range (degrees, 0 to 180)\n",
    "        zoom_range = 0.1, # Randomly zoom image \n",
    "        width_shift_range=0.1,  # randomly shift images horizontally (fraction of total width)\n",
    "        height_shift_range=0.1,  # randomly shift images vertically (fraction of total height)\n",
    "        horizontal_flip=False,  # randomly flip images\n",
    "        vertical_flip=False)  # randomly flip images\n",
    "\n",
    "\n",
    "datagen.fit(X_train)"
   ]
  },
  {
   "cell_type": "code",
   "execution_count": 21,
   "metadata": {
    "colab": {
     "base_uri": "https://localhost:8080/",
     "height": 1000
    },
    "colab_type": "code",
    "id": "aBLeGVvnPNrX",
    "outputId": "cd89b50e-178c-467d-8a6b-612eb6693e47"
   },
   "outputs": [
    {
     "name": "stdout",
     "output_type": "stream",
     "text": [
      "Epoch 1/30\n",
      "843/843 [==============================] - 19s 22ms/step - loss: 0.6511 - acc: 0.8014 - val_loss: 0.1023 - val_acc: 0.9728\n",
      "Epoch 2/30\n",
      "843/843 [==============================] - 18s 22ms/step - loss: 0.2092 - acc: 0.9388 - val_loss: 0.0554 - val_acc: 0.9830\n",
      "Epoch 3/30\n",
      "843/843 [==============================] - 19s 22ms/step - loss: 0.1538 - acc: 0.9548 - val_loss: 0.0642 - val_acc: 0.9787\n",
      "Epoch 4/30\n",
      "843/843 [==============================] - 18s 22ms/step - loss: 0.1206 - acc: 0.9644 - val_loss: 0.0361 - val_acc: 0.9887\n",
      "Epoch 5/30\n",
      "843/843 [==============================] - 19s 22ms/step - loss: 0.1056 - acc: 0.9694 - val_loss: 0.0446 - val_acc: 0.9867\n",
      "Epoch 6/30\n",
      "843/843 [==============================] - 18s 22ms/step - loss: 0.0953 - acc: 0.9722 - val_loss: 0.0297 - val_acc: 0.9907\n",
      "Epoch 7/30\n",
      "843/843 [==============================] - 19s 22ms/step - loss: 0.0847 - acc: 0.9755 - val_loss: 0.0244 - val_acc: 0.9932\n",
      "Epoch 8/30\n",
      "843/843 [==============================] - 18s 22ms/step - loss: 0.0791 - acc: 0.9769 - val_loss: 0.0385 - val_acc: 0.9855\n",
      "Epoch 9/30\n",
      "843/843 [==============================] - 18s 21ms/step - loss: 0.0772 - acc: 0.9786 - val_loss: 0.0225 - val_acc: 0.9922\n",
      "Epoch 10/30\n",
      "843/843 [==============================] - 19s 22ms/step - loss: 0.0731 - acc: 0.9790 - val_loss: 0.0305 - val_acc: 0.9900\n",
      "Epoch 11/30\n",
      "843/843 [==============================] - 19s 22ms/step - loss: 0.0687 - acc: 0.9802 - val_loss: 0.0202 - val_acc: 0.9930\n",
      "Epoch 12/30\n",
      "843/843 [==============================] - 19s 22ms/step - loss: 0.0663 - acc: 0.9817 - val_loss: 0.0243 - val_acc: 0.9915\n",
      "Epoch 13/30\n",
      "843/843 [==============================] - 19s 22ms/step - loss: 0.0608 - acc: 0.9824 - val_loss: 0.0190 - val_acc: 0.9942\n",
      "Epoch 14/30\n",
      "843/843 [==============================] - 18s 22ms/step - loss: 0.0609 - acc: 0.9823 - val_loss: 0.0194 - val_acc: 0.9938\n",
      "Epoch 15/30\n",
      "843/843 [==============================] - 18s 22ms/step - loss: 0.0593 - acc: 0.9826 - val_loss: 0.0202 - val_acc: 0.9938\n",
      "Epoch 16/30\n",
      "843/843 [==============================] - 19s 22ms/step - loss: 0.0549 - acc: 0.9835 - val_loss: 0.0292 - val_acc: 0.9908\n",
      "Epoch 17/30\n",
      "843/843 [==============================] - 19s 22ms/step - loss: 0.0513 - acc: 0.9852 - val_loss: 0.0217 - val_acc: 0.9945\n",
      "Epoch 18/30\n",
      "843/843 [==============================] - 18s 22ms/step - loss: 0.0515 - acc: 0.9848 - val_loss: 0.0180 - val_acc: 0.9942\n",
      "Epoch 19/30\n",
      "843/843 [==============================] - 18s 22ms/step - loss: 0.0507 - acc: 0.9854 - val_loss: 0.0192 - val_acc: 0.9935\n",
      "Epoch 20/30\n",
      "843/843 [==============================] - 18s 22ms/step - loss: 0.0490 - acc: 0.9858 - val_loss: 0.0145 - val_acc: 0.9943\n",
      "Epoch 21/30\n",
      "843/843 [==============================] - 19s 22ms/step - loss: 0.0471 - acc: 0.9861 - val_loss: 0.0179 - val_acc: 0.9940\n",
      "Epoch 22/30\n",
      "843/843 [==============================] - 18s 22ms/step - loss: 0.0474 - acc: 0.9862 - val_loss: 0.0169 - val_acc: 0.9938\n",
      "Epoch 23/30\n",
      "843/843 [==============================] - 19s 22ms/step - loss: 0.0445 - acc: 0.9866 - val_loss: 0.0174 - val_acc: 0.9945\n",
      "Epoch 24/30\n",
      "843/843 [==============================] - 18s 22ms/step - loss: 0.0477 - acc: 0.9862 - val_loss: 0.0199 - val_acc: 0.9932\n",
      "Epoch 25/30\n",
      "843/843 [==============================] - 19s 22ms/step - loss: 0.0426 - acc: 0.9878 - val_loss: 0.0187 - val_acc: 0.9935\n",
      "Epoch 26/30\n",
      "843/843 [==============================] - 19s 22ms/step - loss: 0.0419 - acc: 0.9883 - val_loss: 0.0180 - val_acc: 0.9945\n",
      "Epoch 27/30\n",
      "843/843 [==============================] - 18s 22ms/step - loss: 0.0406 - acc: 0.9887 - val_loss: 0.0168 - val_acc: 0.9947\n",
      "Epoch 28/30\n",
      "843/843 [==============================] - 19s 22ms/step - loss: 0.0381 - acc: 0.9887 - val_loss: 0.0163 - val_acc: 0.9948\n",
      "Epoch 29/30\n",
      "843/843 [==============================] - 19s 22ms/step - loss: 0.0400 - acc: 0.9879 - val_loss: 0.0193 - val_acc: 0.9938\n",
      "Epoch 30/30\n",
      "843/843 [==============================] - 19s 22ms/step - loss: 0.0375 - acc: 0.9892 - val_loss: 0.0151 - val_acc: 0.9952\n"
     ]
    }
   ],
   "source": [
    "#Image generator를 사용하며 학습시키는 경우 model.fit이 아니라 model.fit_generator를 사용합니다.\n",
    "#아래의 결과는 위의 예제코드의 결과가 아닙니다!!!\n",
    "results = model.fit_generator(datagen.flow(X_train,Y_train,batch_size=64), \n",
    "                    epochs=30,validation_data=(X_val, Y_val), steps_per_epoch=X_train.shape[0]//64)"
   ]
  },
  {
   "cell_type": "code",
   "execution_count": 24,
   "metadata": {
    "colab": {
     "base_uri": "https://localhost:8080/",
     "height": 51
    },
    "colab_type": "code",
    "id": "WNzAAQ6uGSdX",
    "outputId": "efe251cc-07ac-4b31-d9ca-b6eb9b63d606"
   },
   "outputs": [
    {
     "name": "stdout",
     "output_type": "stream",
     "text": [
      "10000/10000 [==============================] - 0s 50us/step\n",
      "Test loss: 0.0131 accuracy: 0.9949\n"
     ]
    }
   ],
   "source": [
    "#학습시킨 모델을 test data에 적용하여 일반화가 성공적으로 되었는지 확인합니다.\n",
    "#이 test accuracay가 0.99 이상이 되어야 합니다.\n",
    "test_loss, test_accuracy = \\\n",
    "  model.evaluate(X_test, Y_test, batch_size=64)\n",
    "print('Test loss: %.4f accuracy: %.4f' % (test_loss, test_accuracy))"
   ]
  },
  {
   "cell_type": "code",
   "execution_count": 0,
   "metadata": {
    "colab": {},
    "colab_type": "code",
    "id": "3QOHkW0iTkVZ"
   },
   "outputs": [],
   "source": []
  }
 ],
 "metadata": {
  "accelerator": "GPU",
  "colab": {
   "collapsed_sections": [],
   "name": "99.66%.ipynb",
   "provenance": []
  },
  "kernelspec": {
   "display_name": "Python 3",
   "language": "python",
   "name": "python3"
  },
  "language_info": {
   "codemirror_mode": {
    "name": "ipython",
    "version": 3
   },
   "file_extension": ".py",
   "mimetype": "text/x-python",
   "name": "python",
   "nbconvert_exporter": "python",
   "pygments_lexer": "ipython3",
   "version": "3.7.4"
  }
 },
 "nbformat": 4,
 "nbformat_minor": 1
}
