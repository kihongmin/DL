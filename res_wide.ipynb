{
  "nbformat": 4,
  "nbformat_minor": 0,
  "metadata": {
    "accelerator": "GPU",
    "colab": {
      "name": "res_wide.ipynb",
      "provenance": [],
      "collapsed_sections": [],
      "include_colab_link": true
    },
    "kernelspec": {
      "display_name": "Python 3",
      "language": "python",
      "name": "python3"
    },
    "language_info": {
      "codemirror_mode": {
        "name": "ipython",
        "version": 3
      },
      "file_extension": ".py",
      "mimetype": "text/x-python",
      "name": "python",
      "nbconvert_exporter": "python",
      "pygments_lexer": "ipython3",
      "version": "3.7.4"
    }
  },
  "cells": [
    {
      "cell_type": "markdown",
      "metadata": {
        "id": "view-in-github",
        "colab_type": "text"
      },
      "source": [
        "<a href=\"https://colab.research.google.com/github/kihongmin/vision/blob/master/res_wide.ipynb\" target=\"_parent\"><img src=\"https://colab.research.google.com/assets/colab-badge.svg\" alt=\"Open In Colab\"/></a>"
      ]
    },
    {
      "cell_type": "code",
      "metadata": {
        "colab_type": "code",
        "id": "FnrvOU4XyELz",
        "colab": {}
      },
      "source": [
        "import numpy as np\n",
        "import pandas as pd\n",
        "import matplotlib.pyplot as plt\n",
        "import os\n",
        "import cv2"
      ],
      "execution_count": 0,
      "outputs": []
    },
    {
      "cell_type": "code",
      "metadata": {
        "colab_type": "code",
        "id": "L3hR5em8XaJ5",
        "colab": {}
      },
      "source": [
        "X_train = X_train.astype('float32') / 255.\n",
        "X_test = X_test.astype('float32') / 255."
      ],
      "execution_count": 0,
      "outputs": []
    },
    {
      "cell_type": "code",
      "metadata": {
        "colab_type": "code",
        "id": "__dA1uCpQDgf",
        "outputId": "cc8a7a45-d03c-44eb-d62b-bb9585bc20f6",
        "colab": {
          "base_uri": "https://localhost:8080/",
          "height": 63
        }
      },
      "source": [
        "from tensorflow.keras.utils import to_categorical\n",
        "Y_train = to_categorical(Y_train)"
      ],
      "execution_count": 0,
      "outputs": [
        {
          "output_type": "display_data",
          "data": {
            "text/html": [
              "<p style=\"color: red;\">\n",
              "The default version of TensorFlow in Colab will soon switch to TensorFlow 2.x.<br>\n",
              "We recommend you <a href=\"https://www.tensorflow.org/guide/migrate\" target=\"_blank\">upgrade</a> now \n",
              "or ensure your notebook will continue to use TensorFlow 1.x via the <code>%tensorflow_version 1.x</code> magic:\n",
              "<a href=\"https://colab.research.google.com/notebooks/tensorflow_version.ipynb\" target=\"_blank\">more info</a>.</p>\n"
            ],
            "text/plain": [
              "<IPython.core.display.HTML object>"
            ]
          },
          "metadata": {
            "tags": []
          }
        }
      ]
    },
    {
      "cell_type": "code",
      "metadata": {
        "colab_type": "code",
        "id": "_INn3kBrMWno",
        "outputId": "df32d42c-f694-41db-879f-8172e157e7cc",
        "colab": {
          "base_uri": "https://localhost:8080/",
          "height": 34
        }
      },
      "source": [
        "import keras.layers\n",
        "import tensorflow as tf\n",
        "from keras import backend as K\n",
        "from keras import Input\n",
        "from keras.models import Model\n",
        "from keras.layers import Dropout\n",
        "from keras.layers import BatchNormalization, Convolution2D, MaxPooling2D\n",
        "from keras.layers import GlobalAveragePooling2D, Dense, Activation, Dropout\n",
        "from keras.layers import Add, ZeroPadding2D, Flatten\n",
        "from keras.layers.core import Lambda"
      ],
      "execution_count": 0,
      "outputs": [
        {
          "output_type": "stream",
          "text": [
            "Using TensorFlow backend.\n"
          ],
          "name": "stderr"
        }
      ]
    },
    {
      "cell_type": "code",
      "metadata": {
        "colab_type": "code",
        "id": "4kNW-4TbQGHH",
        "colab": {}
      },
      "source": [
        "#for zeropadding concat\n",
        "def zeropad(x):\n",
        "    y = K.zeros(K.shape(x))\n",
        "    return K.concatenate([x, y],-1)\n",
        "\n",
        "def zeropad_output_shape(input_shape):\n",
        "    shape = list(input_shape)\n",
        "    assert len(shape) == 4\n",
        "    shape[-1] *= 2\n",
        "    return tuple(shape)"
      ],
      "execution_count": 0,
      "outputs": []
    },
    {
      "cell_type": "code",
      "metadata": {
        "colab_type": "code",
        "id": "YmFVucw4BwR-",
        "colab": {}
      },
      "source": [
        "def wideRes(x,channels,block_number,d_increase=False):\n",
        "    #pre-activation 구조\n",
        "    #relu->conv->batch 후 다음 블럭으로 넘김(다음 블럭의 shortcut이 batchnormalized된 값)\n",
        "    name = \"_\"+str(channels) +\"_\" + str(block_number)\n",
        "    shortcut = x  \n",
        "    if d_increase == True:        \n",
        "        x = Activation('relu')(x)\n",
        "        x = Convolution2D(channels,kernel_size=(3,3),strides=(2,2), padding = \"same\", kernel_initializer = 'he_normal',name='first'+name)(x)        \n",
        "        x = BatchNormalization()(x)\n",
        "        \n",
        "        shortcut = MaxPooling2D((2,2))(shortcut)\n",
        "        shortcut = Lambda(zeropad, output_shape=zeropad_output_shape)(shortcut)\n",
        "    else:            \n",
        "        x = Activation('relu')(x)\n",
        "        x = Convolution2D(channels, kernel_size=(3,3), padding=\"same\",kernel_initializer='he_normal',name = 'decrease'+name)(x)\n",
        "        x = BatchNormalization()(x)\n",
        "\n",
        "    x = Dropout(0.5)(x)\n",
        "\n",
        "    x = Activation('relu')(x)\n",
        "    x = Convolution2D(channels, kernel_size=(3,3), padding=\"same\",kernel_initializer='he_normal',name='last'+name)(x)\n",
        "    x = BatchNormalization()(x)\n",
        "        \n",
        "    x = Add()([x,shortcut])    \n",
        "    return x"
      ],
      "execution_count": 0,
      "outputs": []
    },
    {
      "cell_type": "code",
      "metadata": {
        "colab_type": "code",
        "id": "OwuaV_9gb01Z",
        "colab": {}
      },
      "source": [
        "def block_group(x, channels, num_blocks):\n",
        "    for i in range(num_blocks):    \n",
        "        if i==0:    \n",
        "            x = wideRes(x,channels,i,True)            \n",
        "        else:\n",
        "            x = wideRes(x,channels,i,False)    \n",
        "    return x"
      ],
      "execution_count": 0,
      "outputs": []
    },
    {
      "cell_type": "code",
      "metadata": {
        "colab_type": "code",
        "id": "dp8LXUVabo8c",
        "colab": {}
      },
      "source": [
        "def result(x):\n",
        "    input_data=x\n",
        "    k = 2\n",
        "    n = 3\n",
        "    \n",
        "    x = BatchNormalization()(x)\n",
        "    x = Activation('relu')(x)\n",
        "\n",
        "    x = Convolution2D(32*k, (3,3), strides = (1,1),padding='same', kernel_initializer = 'he_normal')(x)\n",
        "    x = BatchNormalization()(x)\n",
        "    x = Activation('relu')(x)\n",
        "\n",
        "    x = Convolution2D(32*k, (3,3), strides = (1,1), padding='same', kernel_initializer = 'he_normal')(x)\n",
        "    x = BatchNormalization()(x)\n",
        "    x = Activation('relu')(x)\n",
        "\n",
        "    x = Convolution2D(32*k, (3,3), strides = (2,2), padding='same', kernel_initializer = 'he_normal')(x)\n",
        "    x = BatchNormalization()(x)\n",
        "\n",
        "    \n",
        "    x = MaxPooling2D((3,3),padding='same',strides=(2,2))(x)\n",
        "    \n",
        "\n",
        "    shortcut=x\n",
        "\n",
        "    x = Activation('relu')(x)\n",
        "    x = Convolution2D(64*k, kernel_size=(3,3), padding=\"same\",kernel_initializer='he_normal')(x)\n",
        "    x = BatchNormalization()(x)\n",
        "\n",
        "    x = Activation('relu')(x)\n",
        "    x = Convolution2D(64*k, kernel_size=(3,3), padding=\"same\",kernel_initializer='he_normal')(x)\n",
        "    x = BatchNormalization()(x)\n",
        "\n",
        "    shortcut = Lambda(zeropad, output_shape=zeropad_output_shape)(shortcut)\n",
        "    \n",
        "    x = Add()([x,shortcut]) \n",
        "    \n",
        "    x = block_group(x, 128*k, n)    \n",
        "    x = block_group(x, 256*k, n)\n",
        "    x = block_group(x, 512*k, n)\n",
        "    \n",
        "    x = GlobalAveragePooling2D()(x)\n",
        "    output_data = Dense(6,activation='softmax')(x)\n",
        "    \n",
        "    model = Model(input_data,output_data)\n",
        "    model.compile(loss='categorical_crossentropy', optimizer='adam', metrics=['accuracy'])\n",
        "        \n",
        "    return model"
      ],
      "execution_count": 0,
      "outputs": []
    },
    {
      "cell_type": "code",
      "metadata": {
        "colab_type": "code",
        "id": "LaIAFpl6cB-q",
        "outputId": "14fdf4f6-ddee-430d-ddc8-c61a9359a8c8",
        "colab": {
          "base_uri": "https://localhost:8080/",
          "height": 598
        }
      },
      "source": [
        "inputs = Input(shape=(160,160,3),dtype='float32')\n",
        "model = result(inputs)"
      ],
      "execution_count": 0,
      "outputs": [
        {
          "output_type": "stream",
          "text": [
            "WARNING:tensorflow:From /usr/local/lib/python3.6/dist-packages/keras/backend/tensorflow_backend.py:66: The name tf.get_default_graph is deprecated. Please use tf.compat.v1.get_default_graph instead.\n",
            "\n",
            "WARNING:tensorflow:From /usr/local/lib/python3.6/dist-packages/keras/backend/tensorflow_backend.py:541: The name tf.placeholder is deprecated. Please use tf.compat.v1.placeholder instead.\n",
            "\n",
            "WARNING:tensorflow:From /usr/local/lib/python3.6/dist-packages/keras/backend/tensorflow_backend.py:190: The name tf.get_default_session is deprecated. Please use tf.compat.v1.get_default_session instead.\n",
            "\n",
            "WARNING:tensorflow:From /usr/local/lib/python3.6/dist-packages/keras/backend/tensorflow_backend.py:197: The name tf.ConfigProto is deprecated. Please use tf.compat.v1.ConfigProto instead.\n",
            "\n",
            "WARNING:tensorflow:From /usr/local/lib/python3.6/dist-packages/keras/backend/tensorflow_backend.py:203: The name tf.Session is deprecated. Please use tf.compat.v1.Session instead.\n",
            "\n",
            "WARNING:tensorflow:From /usr/local/lib/python3.6/dist-packages/keras/backend/tensorflow_backend.py:207: The name tf.global_variables is deprecated. Please use tf.compat.v1.global_variables instead.\n",
            "\n",
            "WARNING:tensorflow:From /usr/local/lib/python3.6/dist-packages/keras/backend/tensorflow_backend.py:216: The name tf.is_variable_initialized is deprecated. Please use tf.compat.v1.is_variable_initialized instead.\n",
            "\n",
            "WARNING:tensorflow:From /usr/local/lib/python3.6/dist-packages/keras/backend/tensorflow_backend.py:223: The name tf.variables_initializer is deprecated. Please use tf.compat.v1.variables_initializer instead.\n",
            "\n",
            "WARNING:tensorflow:From /usr/local/lib/python3.6/dist-packages/keras/backend/tensorflow_backend.py:2041: The name tf.nn.fused_batch_norm is deprecated. Please use tf.compat.v1.nn.fused_batch_norm instead.\n",
            "\n",
            "WARNING:tensorflow:From /usr/local/lib/python3.6/dist-packages/keras/backend/tensorflow_backend.py:148: The name tf.placeholder_with_default is deprecated. Please use tf.compat.v1.placeholder_with_default instead.\n",
            "\n",
            "WARNING:tensorflow:From /usr/local/lib/python3.6/dist-packages/keras/backend/tensorflow_backend.py:4479: The name tf.truncated_normal is deprecated. Please use tf.random.truncated_normal instead.\n",
            "\n",
            "WARNING:tensorflow:From /usr/local/lib/python3.6/dist-packages/keras/backend/tensorflow_backend.py:4267: The name tf.nn.max_pool is deprecated. Please use tf.nn.max_pool2d instead.\n",
            "\n",
            "WARNING:tensorflow:From /usr/local/lib/python3.6/dist-packages/keras/backend/tensorflow_backend.py:3733: calling dropout (from tensorflow.python.ops.nn_ops) with keep_prob is deprecated and will be removed in a future version.\n",
            "Instructions for updating:\n",
            "Please use `rate` instead of `keep_prob`. Rate should be set to `rate = 1 - keep_prob`.\n",
            "WARNING:tensorflow:From /usr/local/lib/python3.6/dist-packages/keras/backend/tensorflow_backend.py:4432: The name tf.random_uniform is deprecated. Please use tf.random.uniform instead.\n",
            "\n",
            "WARNING:tensorflow:From /usr/local/lib/python3.6/dist-packages/keras/optimizers.py:793: The name tf.train.Optimizer is deprecated. Please use tf.compat.v1.train.Optimizer instead.\n",
            "\n",
            "WARNING:tensorflow:From /usr/local/lib/python3.6/dist-packages/keras/backend/tensorflow_backend.py:3576: The name tf.log is deprecated. Please use tf.math.log instead.\n",
            "\n"
          ],
          "name": "stdout"
        }
      ]
    },
    {
      "cell_type": "code",
      "metadata": {
        "colab_type": "code",
        "id": "9fyzEHm8cB5n",
        "outputId": "e8d24cc8-de13-4d6d-9cda-c14c7b656586",
        "colab": {
          "base_uri": "https://localhost:8080/",
          "height": 1000
        }
      },
      "source": [
        "model.summary()"
      ],
      "execution_count": 0,
      "outputs": [
        {
          "output_type": "stream",
          "text": [
            "Model: \"model_1\"\n",
            "__________________________________________________________________________________________________\n",
            "Layer (type)                    Output Shape         Param #     Connected to                     \n",
            "==================================================================================================\n",
            "input_1 (InputLayer)            (None, 160, 160, 3)  0                                            \n",
            "__________________________________________________________________________________________________\n",
            "batch_normalization_1 (BatchNor (None, 160, 160, 3)  12          input_1[0][0]                    \n",
            "__________________________________________________________________________________________________\n",
            "activation_1 (Activation)       (None, 160, 160, 3)  0           batch_normalization_1[0][0]      \n",
            "__________________________________________________________________________________________________\n",
            "conv2d_1 (Conv2D)               (None, 160, 160, 64) 1792        activation_1[0][0]               \n",
            "__________________________________________________________________________________________________\n",
            "batch_normalization_2 (BatchNor (None, 160, 160, 64) 256         conv2d_1[0][0]                   \n",
            "__________________________________________________________________________________________________\n",
            "activation_2 (Activation)       (None, 160, 160, 64) 0           batch_normalization_2[0][0]      \n",
            "__________________________________________________________________________________________________\n",
            "conv2d_2 (Conv2D)               (None, 160, 160, 64) 36928       activation_2[0][0]               \n",
            "__________________________________________________________________________________________________\n",
            "batch_normalization_3 (BatchNor (None, 160, 160, 64) 256         conv2d_2[0][0]                   \n",
            "__________________________________________________________________________________________________\n",
            "activation_3 (Activation)       (None, 160, 160, 64) 0           batch_normalization_3[0][0]      \n",
            "__________________________________________________________________________________________________\n",
            "conv2d_3 (Conv2D)               (None, 80, 80, 64)   36928       activation_3[0][0]               \n",
            "__________________________________________________________________________________________________\n",
            "batch_normalization_4 (BatchNor (None, 80, 80, 64)   256         conv2d_3[0][0]                   \n",
            "__________________________________________________________________________________________________\n",
            "max_pooling2d_1 (MaxPooling2D)  (None, 40, 40, 64)   0           batch_normalization_4[0][0]      \n",
            "__________________________________________________________________________________________________\n",
            "activation_4 (Activation)       (None, 40, 40, 64)   0           max_pooling2d_1[0][0]            \n",
            "__________________________________________________________________________________________________\n",
            "conv2d_4 (Conv2D)               (None, 40, 40, 128)  73856       activation_4[0][0]               \n",
            "__________________________________________________________________________________________________\n",
            "batch_normalization_5 (BatchNor (None, 40, 40, 128)  512         conv2d_4[0][0]                   \n",
            "__________________________________________________________________________________________________\n",
            "activation_5 (Activation)       (None, 40, 40, 128)  0           batch_normalization_5[0][0]      \n",
            "__________________________________________________________________________________________________\n",
            "conv2d_5 (Conv2D)               (None, 40, 40, 128)  147584      activation_5[0][0]               \n",
            "__________________________________________________________________________________________________\n",
            "batch_normalization_6 (BatchNor (None, 40, 40, 128)  512         conv2d_5[0][0]                   \n",
            "__________________________________________________________________________________________________\n",
            "lambda_1 (Lambda)               (None, 40, 40, 128)  0           max_pooling2d_1[0][0]            \n",
            "__________________________________________________________________________________________________\n",
            "add_1 (Add)                     (None, 40, 40, 128)  0           batch_normalization_6[0][0]      \n",
            "                                                                 lambda_1[0][0]                   \n",
            "__________________________________________________________________________________________________\n",
            "activation_6 (Activation)       (None, 40, 40, 128)  0           add_1[0][0]                      \n",
            "__________________________________________________________________________________________________\n",
            "first2560 (Conv2D)              (None, 20, 20, 256)  295168      activation_6[0][0]               \n",
            "__________________________________________________________________________________________________\n",
            "batch_normalization_7 (BatchNor (None, 20, 20, 256)  1024        first2560[0][0]                  \n",
            "__________________________________________________________________________________________________\n",
            "dropout_1 (Dropout)             (None, 20, 20, 256)  0           batch_normalization_7[0][0]      \n",
            "__________________________________________________________________________________________________\n",
            "activation_7 (Activation)       (None, 20, 20, 256)  0           dropout_1[0][0]                  \n",
            "__________________________________________________________________________________________________\n",
            "last2560 (Conv2D)               (None, 20, 20, 256)  590080      activation_7[0][0]               \n",
            "__________________________________________________________________________________________________\n",
            "max_pooling2d_2 (MaxPooling2D)  (None, 20, 20, 128)  0           add_1[0][0]                      \n",
            "__________________________________________________________________________________________________\n",
            "batch_normalization_8 (BatchNor (None, 20, 20, 256)  1024        last2560[0][0]                   \n",
            "__________________________________________________________________________________________________\n",
            "lambda_2 (Lambda)               (None, 20, 20, 256)  0           max_pooling2d_2[0][0]            \n",
            "__________________________________________________________________________________________________\n",
            "add_2 (Add)                     (None, 20, 20, 256)  0           batch_normalization_8[0][0]      \n",
            "                                                                 lambda_2[0][0]                   \n",
            "__________________________________________________________________________________________________\n",
            "activation_8 (Activation)       (None, 20, 20, 256)  0           add_2[0][0]                      \n",
            "__________________________________________________________________________________________________\n",
            "decrease2561 (Conv2D)           (None, 20, 20, 256)  590080      activation_8[0][0]               \n",
            "__________________________________________________________________________________________________\n",
            "batch_normalization_9 (BatchNor (None, 20, 20, 256)  1024        decrease2561[0][0]               \n",
            "__________________________________________________________________________________________________\n",
            "dropout_2 (Dropout)             (None, 20, 20, 256)  0           batch_normalization_9[0][0]      \n",
            "__________________________________________________________________________________________________\n",
            "activation_9 (Activation)       (None, 20, 20, 256)  0           dropout_2[0][0]                  \n",
            "__________________________________________________________________________________________________\n",
            "last2561 (Conv2D)               (None, 20, 20, 256)  590080      activation_9[0][0]               \n",
            "__________________________________________________________________________________________________\n",
            "batch_normalization_10 (BatchNo (None, 20, 20, 256)  1024        last2561[0][0]                   \n",
            "__________________________________________________________________________________________________\n",
            "add_3 (Add)                     (None, 20, 20, 256)  0           batch_normalization_10[0][0]     \n",
            "                                                                 add_2[0][0]                      \n",
            "__________________________________________________________________________________________________\n",
            "activation_10 (Activation)      (None, 20, 20, 256)  0           add_3[0][0]                      \n",
            "__________________________________________________________________________________________________\n",
            "decrease2562 (Conv2D)           (None, 20, 20, 256)  590080      activation_10[0][0]              \n",
            "__________________________________________________________________________________________________\n",
            "batch_normalization_11 (BatchNo (None, 20, 20, 256)  1024        decrease2562[0][0]               \n",
            "__________________________________________________________________________________________________\n",
            "dropout_3 (Dropout)             (None, 20, 20, 256)  0           batch_normalization_11[0][0]     \n",
            "__________________________________________________________________________________________________\n",
            "activation_11 (Activation)      (None, 20, 20, 256)  0           dropout_3[0][0]                  \n",
            "__________________________________________________________________________________________________\n",
            "last2562 (Conv2D)               (None, 20, 20, 256)  590080      activation_11[0][0]              \n",
            "__________________________________________________________________________________________________\n",
            "batch_normalization_12 (BatchNo (None, 20, 20, 256)  1024        last2562[0][0]                   \n",
            "__________________________________________________________________________________________________\n",
            "add_4 (Add)                     (None, 20, 20, 256)  0           batch_normalization_12[0][0]     \n",
            "                                                                 add_3[0][0]                      \n",
            "__________________________________________________________________________________________________\n",
            "activation_12 (Activation)      (None, 20, 20, 256)  0           add_4[0][0]                      \n",
            "__________________________________________________________________________________________________\n",
            "first5120 (Conv2D)              (None, 10, 10, 512)  1180160     activation_12[0][0]              \n",
            "__________________________________________________________________________________________________\n",
            "batch_normalization_13 (BatchNo (None, 10, 10, 512)  2048        first5120[0][0]                  \n",
            "__________________________________________________________________________________________________\n",
            "dropout_4 (Dropout)             (None, 10, 10, 512)  0           batch_normalization_13[0][0]     \n",
            "__________________________________________________________________________________________________\n",
            "activation_13 (Activation)      (None, 10, 10, 512)  0           dropout_4[0][0]                  \n",
            "__________________________________________________________________________________________________\n",
            "last5120 (Conv2D)               (None, 10, 10, 512)  2359808     activation_13[0][0]              \n",
            "__________________________________________________________________________________________________\n",
            "max_pooling2d_3 (MaxPooling2D)  (None, 10, 10, 256)  0           add_4[0][0]                      \n",
            "__________________________________________________________________________________________________\n",
            "batch_normalization_14 (BatchNo (None, 10, 10, 512)  2048        last5120[0][0]                   \n",
            "__________________________________________________________________________________________________\n",
            "lambda_3 (Lambda)               (None, 10, 10, 512)  0           max_pooling2d_3[0][0]            \n",
            "__________________________________________________________________________________________________\n",
            "add_5 (Add)                     (None, 10, 10, 512)  0           batch_normalization_14[0][0]     \n",
            "                                                                 lambda_3[0][0]                   \n",
            "__________________________________________________________________________________________________\n",
            "activation_14 (Activation)      (None, 10, 10, 512)  0           add_5[0][0]                      \n",
            "__________________________________________________________________________________________________\n",
            "decrease5121 (Conv2D)           (None, 10, 10, 512)  2359808     activation_14[0][0]              \n",
            "__________________________________________________________________________________________________\n",
            "batch_normalization_15 (BatchNo (None, 10, 10, 512)  2048        decrease5121[0][0]               \n",
            "__________________________________________________________________________________________________\n",
            "dropout_5 (Dropout)             (None, 10, 10, 512)  0           batch_normalization_15[0][0]     \n",
            "__________________________________________________________________________________________________\n",
            "activation_15 (Activation)      (None, 10, 10, 512)  0           dropout_5[0][0]                  \n",
            "__________________________________________________________________________________________________\n",
            "last5121 (Conv2D)               (None, 10, 10, 512)  2359808     activation_15[0][0]              \n",
            "__________________________________________________________________________________________________\n",
            "batch_normalization_16 (BatchNo (None, 10, 10, 512)  2048        last5121[0][0]                   \n",
            "__________________________________________________________________________________________________\n",
            "add_6 (Add)                     (None, 10, 10, 512)  0           batch_normalization_16[0][0]     \n",
            "                                                                 add_5[0][0]                      \n",
            "__________________________________________________________________________________________________\n",
            "activation_16 (Activation)      (None, 10, 10, 512)  0           add_6[0][0]                      \n",
            "__________________________________________________________________________________________________\n",
            "decrease5122 (Conv2D)           (None, 10, 10, 512)  2359808     activation_16[0][0]              \n",
            "__________________________________________________________________________________________________\n",
            "batch_normalization_17 (BatchNo (None, 10, 10, 512)  2048        decrease5122[0][0]               \n",
            "__________________________________________________________________________________________________\n",
            "dropout_6 (Dropout)             (None, 10, 10, 512)  0           batch_normalization_17[0][0]     \n",
            "__________________________________________________________________________________________________\n",
            "activation_17 (Activation)      (None, 10, 10, 512)  0           dropout_6[0][0]                  \n",
            "__________________________________________________________________________________________________\n",
            "last5122 (Conv2D)               (None, 10, 10, 512)  2359808     activation_17[0][0]              \n",
            "__________________________________________________________________________________________________\n",
            "batch_normalization_18 (BatchNo (None, 10, 10, 512)  2048        last5122[0][0]                   \n",
            "__________________________________________________________________________________________________\n",
            "add_7 (Add)                     (None, 10, 10, 512)  0           batch_normalization_18[0][0]     \n",
            "                                                                 add_6[0][0]                      \n",
            "__________________________________________________________________________________________________\n",
            "activation_18 (Activation)      (None, 10, 10, 512)  0           add_7[0][0]                      \n",
            "__________________________________________________________________________________________________\n",
            "first10240 (Conv2D)             (None, 5, 5, 1024)   4719616     activation_18[0][0]              \n",
            "__________________________________________________________________________________________________\n",
            "batch_normalization_19 (BatchNo (None, 5, 5, 1024)   4096        first10240[0][0]                 \n",
            "__________________________________________________________________________________________________\n",
            "dropout_7 (Dropout)             (None, 5, 5, 1024)   0           batch_normalization_19[0][0]     \n",
            "__________________________________________________________________________________________________\n",
            "activation_19 (Activation)      (None, 5, 5, 1024)   0           dropout_7[0][0]                  \n",
            "__________________________________________________________________________________________________\n",
            "last10240 (Conv2D)              (None, 5, 5, 1024)   9438208     activation_19[0][0]              \n",
            "__________________________________________________________________________________________________\n",
            "max_pooling2d_4 (MaxPooling2D)  (None, 5, 5, 512)    0           add_7[0][0]                      \n",
            "__________________________________________________________________________________________________\n",
            "batch_normalization_20 (BatchNo (None, 5, 5, 1024)   4096        last10240[0][0]                  \n",
            "__________________________________________________________________________________________________\n",
            "lambda_4 (Lambda)               (None, 5, 5, 1024)   0           max_pooling2d_4[0][0]            \n",
            "__________________________________________________________________________________________________\n",
            "add_8 (Add)                     (None, 5, 5, 1024)   0           batch_normalization_20[0][0]     \n",
            "                                                                 lambda_4[0][0]                   \n",
            "__________________________________________________________________________________________________\n",
            "activation_20 (Activation)      (None, 5, 5, 1024)   0           add_8[0][0]                      \n",
            "__________________________________________________________________________________________________\n",
            "decrease10241 (Conv2D)          (None, 5, 5, 1024)   9438208     activation_20[0][0]              \n",
            "__________________________________________________________________________________________________\n",
            "batch_normalization_21 (BatchNo (None, 5, 5, 1024)   4096        decrease10241[0][0]              \n",
            "__________________________________________________________________________________________________\n",
            "dropout_8 (Dropout)             (None, 5, 5, 1024)   0           batch_normalization_21[0][0]     \n",
            "__________________________________________________________________________________________________\n",
            "activation_21 (Activation)      (None, 5, 5, 1024)   0           dropout_8[0][0]                  \n",
            "__________________________________________________________________________________________________\n",
            "last10241 (Conv2D)              (None, 5, 5, 1024)   9438208     activation_21[0][0]              \n",
            "__________________________________________________________________________________________________\n",
            "batch_normalization_22 (BatchNo (None, 5, 5, 1024)   4096        last10241[0][0]                  \n",
            "__________________________________________________________________________________________________\n",
            "add_9 (Add)                     (None, 5, 5, 1024)   0           batch_normalization_22[0][0]     \n",
            "                                                                 add_8[0][0]                      \n",
            "__________________________________________________________________________________________________\n",
            "activation_22 (Activation)      (None, 5, 5, 1024)   0           add_9[0][0]                      \n",
            "__________________________________________________________________________________________________\n",
            "decrease10242 (Conv2D)          (None, 5, 5, 1024)   9438208     activation_22[0][0]              \n",
            "__________________________________________________________________________________________________\n",
            "batch_normalization_23 (BatchNo (None, 5, 5, 1024)   4096        decrease10242[0][0]              \n",
            "__________________________________________________________________________________________________\n",
            "dropout_9 (Dropout)             (None, 5, 5, 1024)   0           batch_normalization_23[0][0]     \n",
            "__________________________________________________________________________________________________\n",
            "activation_23 (Activation)      (None, 5, 5, 1024)   0           dropout_9[0][0]                  \n",
            "__________________________________________________________________________________________________\n",
            "last10242 (Conv2D)              (None, 5, 5, 1024)   9438208     activation_23[0][0]              \n",
            "__________________________________________________________________________________________________\n",
            "batch_normalization_24 (BatchNo (None, 5, 5, 1024)   4096        last10242[0][0]                  \n",
            "__________________________________________________________________________________________________\n",
            "add_10 (Add)                    (None, 5, 5, 1024)   0           batch_normalization_24[0][0]     \n",
            "                                                                 add_9[0][0]                      \n",
            "__________________________________________________________________________________________________\n",
            "global_average_pooling2d_1 (Glo (None, 1024)         0           add_10[0][0]                     \n",
            "__________________________________________________________________________________________________\n",
            "dense_1 (Dense)                 (None, 6)            6150        global_average_pooling2d_1[0][0] \n",
            "==================================================================================================\n",
            "Total params: 68,483,474\n",
            "Trainable params: 68,461,068\n",
            "Non-trainable params: 22,406\n",
            "__________________________________________________________________________________________________\n"
          ],
          "name": "stdout"
        }
      ]
    },
    {
      "cell_type": "code",
      "metadata": {
        "colab_type": "code",
        "id": "L6ivRyeRcB2E",
        "colab": {}
      },
      "source": [
        "from keras.preprocessing.image import ImageDataGenerator\n",
        "datagen = ImageDataGenerator(shear_range=0.05, width_shift_range=0.2,\n",
        "                                   height_shift_range=0.2,\n",
        "                                   horizontal_flip=True, zoom_range=0.2,)\n",
        "from sklearn.model_selection import train_test_split\n",
        "\n",
        "X_Train, X_Val, Y_Train, Y_Val = train_test_split(X_train,Y_train, test_size=0.2)"
      ],
      "execution_count": 0,
      "outputs": []
    },
    {
      "cell_type": "code",
      "metadata": {
        "colab_type": "code",
        "id": "4-OpIJkEZm8_",
        "colab": {}
      },
      "source": [
        "from keras.callbacks import EarlyStopping\n",
        "from keras.callbacks import ModelCheckpoint\n",
        "from keras.callbacks import LearningRateScheduler"
      ],
      "execution_count": 0,
      "outputs": []
    },
    {
      "cell_type": "code",
      "metadata": {
        "colab_type": "code",
        "id": "rXJ_ymfbgn3H",
        "colab": {}
      },
      "source": [
        "#경험적으로 learning rate가 0.001일때 val_acc가 89%이상을 뚫지 못해\n",
        "#15~30번 사이에서 val_acc가 89%를 달성하므로 그때 lr을 0.0001로 줄여서 학습\n",
        "#val_acc가 91~92%대가 나옴\n",
        "\n",
        "\n",
        "#아래에 있는 에폭돌린거는 학습된 모델을 재학습시킨건데 val_set이었던 데이터들이 train으로 들어가서\n",
        "#val_acc가 높아보이는 거니까 신경쓰지 않아도 됨.\n",
        "\n",
        "def lr(x):\n",
        "    if x<15:\n",
        "        return 0.001\n",
        "    elif x<30:\n",
        "        return 0.0005\n",
        "    else:\n",
        "        return 0.0001\n",
        "\n",
        "callback_list = [ModelCheckpoint('best_2.h5',monitor='val_acc',save_best_only=True,save_weights_only=True),\n",
        "                 LearningRateScheduler(lambda x : lr(x),1)]\n"
      ],
      "execution_count": 0,
      "outputs": []
    },
    {
      "cell_type": "code",
      "metadata": {
        "colab_type": "code",
        "id": "mxCMmAQJb3hq",
        "colab": {}
      },
      "source": [
        "train_generator = datagen.flow(X_Train,Y_Train,batch_size=64)"
      ],
      "execution_count": 0,
      "outputs": []
    },
    {
      "cell_type": "code",
      "metadata": {
        "colab_type": "code",
        "id": "xwlbavLWcBxj",
        "outputId": "39331b31-8543-4b99-a27f-597f907aade3",
        "colab": {
          "base_uri": "https://localhost:8080/",
          "height": 1000
        }
      },
      "source": [
        "hist=model.fit_generator(train_generator,steps_per_epoch=len(X_Train)/64,validation_data=(X_Val,Y_Val),\n",
        "               validation_steps=len(X_Val)/64,epochs=50,callbacks=callback_list)"
      ],
      "execution_count": 0,
      "outputs": [
        {
          "output_type": "stream",
          "text": [
            "Epoch 1/50\n",
            "\n",
            "Epoch 00001: LearningRateScheduler setting learning rate to 1e-06.\n",
            "176/175 [==============================] - 262s 1s/step - loss: 0.1866 - acc: 0.9339 - val_loss: 0.1433 - val_acc: 0.9466\n",
            "Epoch 2/50\n",
            "\n",
            "Epoch 00002: LearningRateScheduler setting learning rate to 1e-06.\n",
            "176/175 [==============================] - 257s 1s/step - loss: 0.1846 - acc: 0.9346 - val_loss: 0.1442 - val_acc: 0.9462\n",
            "Epoch 3/50\n",
            "\n",
            "Epoch 00003: LearningRateScheduler setting learning rate to 1e-06.\n",
            "176/175 [==============================] - 257s 1s/step - loss: 0.1903 - acc: 0.9302 - val_loss: 0.1437 - val_acc: 0.9462\n",
            "Epoch 4/50\n",
            "\n",
            "Epoch 00004: LearningRateScheduler setting learning rate to 5e-07.\n",
            "176/175 [==============================] - 257s 1s/step - loss: 0.1829 - acc: 0.9350 - val_loss: 0.1432 - val_acc: 0.9466\n",
            "Epoch 5/50\n",
            "\n",
            "Epoch 00005: LearningRateScheduler setting learning rate to 5e-07.\n",
            "176/175 [==============================] - 256s 1s/step - loss: 0.1879 - acc: 0.9326 - val_loss: 0.1438 - val_acc: 0.9466\n",
            "Epoch 6/50\n",
            "\n",
            "Epoch 00006: LearningRateScheduler setting learning rate to 5e-07.\n",
            "176/175 [==============================] - 256s 1s/step - loss: 0.1919 - acc: 0.9313 - val_loss: 0.1435 - val_acc: 0.9466\n",
            "Epoch 7/50\n",
            "\n",
            "Epoch 00007: LearningRateScheduler setting learning rate to 1e-07.\n",
            "176/175 [==============================] - 256s 1s/step - loss: 0.1887 - acc: 0.9327 - val_loss: 0.1439 - val_acc: 0.9469\n",
            "Epoch 8/50\n",
            "\n",
            "Epoch 00008: LearningRateScheduler setting learning rate to 1e-07.\n",
            "176/175 [==============================] - 257s 1s/step - loss: 0.1869 - acc: 0.9332 - val_loss: 0.1439 - val_acc: 0.9469\n",
            "Epoch 9/50\n",
            "\n",
            "Epoch 00009: LearningRateScheduler setting learning rate to 1e-07.\n",
            "176/175 [==============================] - 256s 1s/step - loss: 0.1840 - acc: 0.9321 - val_loss: 0.1436 - val_acc: 0.9466\n",
            "Epoch 10/50\n",
            "\n",
            "Epoch 00010: LearningRateScheduler setting learning rate to 1e-07.\n",
            "176/175 [==============================] - 256s 1s/step - loss: 0.1942 - acc: 0.9293 - val_loss: 0.1442 - val_acc: 0.9469\n",
            "Epoch 11/50\n",
            "\n",
            "Epoch 00011: LearningRateScheduler setting learning rate to 1e-07.\n",
            "176/175 [==============================] - 256s 1s/step - loss: 0.1939 - acc: 0.9295 - val_loss: 0.1438 - val_acc: 0.9462\n",
            "Epoch 12/50\n",
            "\n",
            "Epoch 00012: LearningRateScheduler setting learning rate to 1e-07.\n",
            "176/175 [==============================] - 256s 1s/step - loss: 0.1847 - acc: 0.9327 - val_loss: 0.1437 - val_acc: 0.9466\n",
            "Epoch 13/50\n",
            "\n",
            "Epoch 00013: LearningRateScheduler setting learning rate to 1e-07.\n",
            "176/175 [==============================] - 256s 1s/step - loss: 0.1879 - acc: 0.9341 - val_loss: 0.1435 - val_acc: 0.9462\n",
            "Epoch 14/50\n",
            "\n",
            "Epoch 00014: LearningRateScheduler setting learning rate to 1e-07.\n",
            "176/175 [==============================] - 256s 1s/step - loss: 0.1885 - acc: 0.9333 - val_loss: 0.1440 - val_acc: 0.9469\n",
            "Epoch 15/50\n",
            "\n",
            "Epoch 00015: LearningRateScheduler setting learning rate to 1e-07.\n",
            "176/175 [==============================] - 256s 1s/step - loss: 0.1887 - acc: 0.9324 - val_loss: 0.1436 - val_acc: 0.9462\n",
            "Epoch 16/50\n",
            "\n",
            "Epoch 00016: LearningRateScheduler setting learning rate to 1e-07.\n",
            " 41/175 [======>.......................] - ETA: 3:00 - loss: 0.1944 - acc: 0.9347"
          ],
          "name": "stdout"
        }
      ]
    },
    {
      "cell_type": "code",
      "metadata": {
        "colab_type": "code",
        "id": "sJvxnJE-M_g9",
        "outputId": "ac552670-48e8-4305-b933-9f55396be493",
        "colab": {
          "base_uri": "https://localhost:8080/",
          "height": 659
        }
      },
      "source": [
        "fig,loss_ax=plt.subplots(figsize=(12,5))\n",
        "acc_ax=loss_ax.twinx()\n",
        "\n",
        "loss_ax.plot(hist.history['loss'],'indianred',marker='*',label='train loss')\n",
        "loss_ax.plot(hist.history['val_loss'],'lightcoral',marker='*',label='val loss')\n",
        "\n",
        "loss_ax.set_ylim([0, 2])\n",
        "\n",
        "\n",
        "acc_ax.plot(hist.history['acc'],'forestgreen',marker='*',label='train accuary')\n",
        "acc_ax.plot(hist.history['val_acc'],'olivedrab',marker='*',label='val accuary')\n",
        "acc_ax.set_ylim([0, 1])\n",
        "\n",
        "\n",
        "loss_ax.set_xlabel('epoch')\n",
        "loss_ax.set_ylabel('loss')\n",
        "acc_ax.set_ylabel('accuracy')\n",
        "\n",
        "loss_ax.legend(loc='upper left')\n",
        "acc_ax.legend(loc='lower left')\n",
        "\n",
        "plt.show()\n",
        "#아래 그래프에서 에폭 30때 val_acc가 급격한 상승을 한 것을 볼 수 있음.\n",
        "#epoch=30 부터 lr을 0.0001로 학습한 결과."
      ],
      "execution_count": 0,
      "outputs": [
        {
          "output_type": "display_data",
          "data": {
            "image/png": "[encoded data removed]",
            "text/plain": [
              "<Figure size 864x360 with 2 Axes>"
            ]
          },
          "metadata": {
            "tags": []
          }
        },
        {
          "output_type": "display_data",
          "data": {
            "image/png": "[encoded data removed]",
            "text/plain": [
              "<Figure size 864x360 with 2 Axes>"
            ]
          },
          "metadata": {
            "tags": []
          }
        }
      ]
    },
    {
      "cell_type": "code",
      "metadata": {
        "colab_type": "code",
        "id": "RxjADvbeY_3x",
        "colab": {}
      },
      "source": [
        "from google.colab import files"
      ],
      "execution_count": 0,
      "outputs": []
    },
    {
      "cell_type": "code",
      "metadata": {
        "colab_type": "code",
        "id": "QaUJf6wOoyOh",
        "outputId": "46732ae0-975b-4540-869a-361214205549",
        "colab": {
          "base_uri": "https://localhost:8080/",
          "height": 442
        }
      },
      "source": [
        "files.download('best.h5')"
      ],
      "execution_count": 0,
      "outputs": [
        {
          "output_type": "stream",
          "text": [
            "----------------------------------------\n",
            "Exception happened during processing of request from ('::ffff:127.0.0.1', 54124, 0, 0)\n",
            "Traceback (most recent call last):\n",
            "  File \"/usr/lib/python3.6/socketserver.py\", line 320, in _handle_request_noblock\n",
            "    self.process_request(request, client_address)\n",
            "  File \"/usr/lib/python3.6/socketserver.py\", line 351, in process_request\n",
            "    self.finish_request(request, client_address)\n",
            "  File \"/usr/lib/python3.6/socketserver.py\", line 364, in finish_request\n",
            "    self.RequestHandlerClass(request, client_address, self)\n",
            "  File \"/usr/lib/python3.6/socketserver.py\", line 724, in __init__\n",
            "    self.handle()\n",
            "  File \"/usr/lib/python3.6/http/server.py\", line 418, in handle\n",
            "    self.handle_one_request()\n",
            "  File \"/usr/lib/python3.6/http/server.py\", line 406, in handle_one_request\n",
            "    method()\n",
            "  File \"/usr/lib/python3.6/http/server.py\", line 639, in do_GET\n",
            "    self.copyfile(f, self.wfile)\n",
            "  File \"/usr/lib/python3.6/http/server.py\", line 800, in copyfile\n",
            "    shutil.copyfileobj(source, outputfile)\n",
            "  File \"/usr/lib/python3.6/shutil.py\", line 82, in copyfileobj\n",
            "    fdst.write(buf)\n",
            "  File \"/usr/lib/python3.6/socketserver.py\", line 803, in write\n",
            "    self._sock.sendall(b)\n",
            "ConnectionResetError: [Errno 104] Connection reset by peer\n",
            "----------------------------------------\n"
          ],
          "name": "stderr"
        }
      ]
    },
    {
      "cell_type": "code",
      "metadata": {
        "colab_type": "code",
        "id": "WuzVpMDrDJhw",
        "colab": {}
      },
      "source": [
        "model.save_weights(\"model_weight.h5\")\n",
        "files.download(\"model_weight.h5\")\n",
        "\n",
        "model.save('wide_model.h5')\n",
        "files.download(\"wide_model.h5\")"
      ],
      "execution_count": 0,
      "outputs": []
    },
    {
      "cell_type": "code",
      "metadata": {
        "colab_type": "code",
        "id": "suDdCSylva1Q",
        "colab": {}
      },
      "source": [
        "model.load_weights('best_2.h5')"
      ],
      "execution_count": 0,
      "outputs": []
    },
    {
      "cell_type": "code",
      "metadata": {
        "colab_type": "code",
        "id": "2ODsDIvDaZjf",
        "outputId": "b2625247-4e5c-4b89-fd7b-8d6d99e971f9",
        "colab": {
          "base_uri": "https://localhost:8080/",
          "height": 442
        }
      },
      "source": [
        "files.download(\"best_2.h5\")"
      ],
      "execution_count": 0,
      "outputs": [
        {
          "output_type": "stream",
          "text": [
            "----------------------------------------\n",
            "Exception happened during processing of request from ('::ffff:127.0.0.1', 58554, 0, 0)\n",
            "Traceback (most recent call last):\n",
            "  File \"/usr/lib/python3.6/socketserver.py\", line 320, in _handle_request_noblock\n",
            "    self.process_request(request, client_address)\n",
            "  File \"/usr/lib/python3.6/socketserver.py\", line 351, in process_request\n",
            "    self.finish_request(request, client_address)\n",
            "  File \"/usr/lib/python3.6/socketserver.py\", line 364, in finish_request\n",
            "    self.RequestHandlerClass(request, client_address, self)\n",
            "  File \"/usr/lib/python3.6/socketserver.py\", line 724, in __init__\n",
            "    self.handle()\n",
            "  File \"/usr/lib/python3.6/http/server.py\", line 418, in handle\n",
            "    self.handle_one_request()\n",
            "  File \"/usr/lib/python3.6/http/server.py\", line 406, in handle_one_request\n",
            "    method()\n",
            "  File \"/usr/lib/python3.6/http/server.py\", line 639, in do_GET\n",
            "    self.copyfile(f, self.wfile)\n",
            "  File \"/usr/lib/python3.6/http/server.py\", line 800, in copyfile\n",
            "    shutil.copyfileobj(source, outputfile)\n",
            "  File \"/usr/lib/python3.6/shutil.py\", line 82, in copyfileobj\n",
            "    fdst.write(buf)\n",
            "  File \"/usr/lib/python3.6/socketserver.py\", line 803, in write\n",
            "    self._sock.sendall(b)\n",
            "ConnectionResetError: [Errno 104] Connection reset by peer\n",
            "----------------------------------------\n"
          ],
          "name": "stderr"
        }
      ]
    },
    {
      "cell_type": "code",
      "metadata": {
        "colab_type": "code",
        "id": "I8a-LlbfDdQj",
        "colab": {}
      },
      "source": [
        "\n",
        "result = model.predict(X_test,batch_size=64)\n",
        "result = np.argmax(result,axis=1).reshape(-1,1)\n",
        "\n",
        "output = pd.DataFrame(X_id)\n",
        "output['pred_label'] = result\n",
        "output.columns = ['id','pred_label']\n",
        "output = output.set_index('id')"
      ],
      "execution_count": 0,
      "outputs": []
    },
    {
      "cell_type": "code",
      "metadata": {
        "colab_type": "code",
        "id": "nAa3xXdoDdsF",
        "colab": {}
      },
      "source": [
        "output.to_csv('prediction.csv')\n",
        "\n",
        "\n",
        "files.download(\"prediction.csv\")"
      ],
      "execution_count": 0,
      "outputs": []
    }
  ]
}